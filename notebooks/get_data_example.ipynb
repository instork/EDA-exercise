{
 "cells": [
  {
   "cell_type": "code",
   "execution_count": 1,
   "id": "204a5efb",
   "metadata": {},
   "outputs": [
    {
     "data": {
      "text/plain": [
       "['admin', 'config', 'index_check', 'local', 'test_db']"
      ]
     },
     "metadata": {},
     "output_type": "display_data"
    }
   ],
   "source": [
    "import os\n",
    "from dotenv import load_dotenv\n",
    "from pymongo import MongoClient\n",
    "\n",
    "load_dotenv('../.env')\n",
    "user = os.getenv(\"MONGODB_USER\")\n",
    "pwd = os.getenv(\"MONGODB_PWD\")\n",
    "host = os.getenv(\"MONGODB_HOST\")\n",
    "port = os.getenv(\"MONGODB_PORT\")\n",
    "\n",
    "\n",
    "client = MongoClient(f'mongodb://{user}:{pwd}@{host}:{port}')\n",
    "display(client.list_database_names())\n"
   ]
  },
  {
   "cell_type": "code",
   "execution_count": 2,
   "id": "29095f3f",
   "metadata": {},
   "outputs": [],
   "source": [
    "db = client.test_db"
   ]
  },
  {
   "cell_type": "code",
   "execution_count": 3,
   "id": "4af9b7d2",
   "metadata": {},
   "outputs": [
    {
     "data": {
      "text/plain": [
       "['USDT-ETH', 'fred', 'USDT-BTC', 'news']"
      ]
     },
     "execution_count": 3,
     "metadata": {},
     "output_type": "execute_result"
    }
   ],
   "source": [
    "db.list_collection_names()"
   ]
  },
  {
   "cell_type": "code",
   "execution_count": 4,
   "id": "af3a8ee5",
   "metadata": {},
   "outputs": [],
   "source": [
    "eth = db['USDT-ETH'].find({})"
   ]
  },
  {
   "cell_type": "code",
   "execution_count": 5,
   "id": "93d500c9",
   "metadata": {},
   "outputs": [
    {
     "data": {
      "text/plain": [
       "{'_id': ObjectId('62e1f5f490522e80a7047424'),\n",
       " 'market': 'USDT-ETH',\n",
       " 'candle_date_time_utc': datetime.datetime(2019, 12, 31, 15, 0),\n",
       " 'candle_date_time_kst': datetime.datetime(2020, 1, 1, 0, 0),\n",
       " 'opening_price': 132.5,\n",
       " 'high_price': 132.5,\n",
       " 'low_price': 132.5,\n",
       " 'trade_price': 132.5,\n",
       " 'timestamp': 1577804610744,\n",
       " 'candle_acc_trade_price': 1.7204171,\n",
       " 'candle_acc_trade_volume': 0.01298428,\n",
       " 'unit': 60,\n",
       " 'utc_time': datetime.datetime(2020, 1, 1, 0, 0)}"
      ]
     },
     "execution_count": 5,
     "metadata": {},
     "output_type": "execute_result"
    }
   ],
   "source": [
    "next(eth)"
   ]
  },
  {
   "cell_type": "code",
   "execution_count": 6,
   "id": "ace7b25e",
   "metadata": {},
   "outputs": [
    {
     "data": {
      "text/plain": [
       "{'_id': ObjectId('62e29662aba095371a19b8e8'),\n",
       " 'market': 'USDT-ETH',\n",
       " 'candle_date_time_utc': datetime.datetime(2022, 7, 28, 12, 0),\n",
       " 'candle_date_time_kst': datetime.datetime(2022, 7, 28, 21, 0),\n",
       " 'opening_price': 1614.80539962,\n",
       " 'high_price': 1636.0586,\n",
       " 'low_price': 1588.6369,\n",
       " 'trade_price': 1636.0586,\n",
       " 'timestamp': 1659012751848,\n",
       " 'candle_acc_trade_price': 15882.13345176,\n",
       " 'candle_acc_trade_volume': 9.8312837,\n",
       " 'unit': 60,\n",
       " 'utc_time': datetime.datetime(2022, 7, 28, 13, 0)}"
      ]
     },
     "execution_count": 6,
     "metadata": {},
     "output_type": "execute_result"
    }
   ],
   "source": [
    "next(db['USDT-ETH'].find().limit(1).sort([(\"utc_time\", -1)]))"
   ]
  },
  {
   "cell_type": "code",
   "execution_count": 7,
   "id": "b978168a",
   "metadata": {},
   "outputs": [],
   "source": [
    "\n",
    "last_data = next(db['USDT-ETH'].find().limit(1).sort([(\"utc_time\", -1)]))\n",
    "\n"
   ]
  },
  {
   "cell_type": "code",
   "execution_count": 8,
   "id": "689d3679",
   "metadata": {},
   "outputs": [
    {
     "data": {
      "text/plain": [
       "datetime.datetime"
      ]
     },
     "execution_count": 8,
     "metadata": {},
     "output_type": "execute_result"
    }
   ],
   "source": [
    "type(last_data['candle_date_time_utc'])"
   ]
  },
  {
   "cell_type": "code",
   "execution_count": 9,
   "id": "8070e4a4",
   "metadata": {},
   "outputs": [],
   "source": [
    "import datetime as dt\n",
    "import pandas as pd"
   ]
  },
  {
   "cell_type": "code",
   "execution_count": 10,
   "id": "6a8a3114",
   "metadata": {},
   "outputs": [],
   "source": [
    "start = dt.datetime(2022, 1, 1)\n",
    "end = dt.datetime(2022, 7, 1)\n",
    "\n",
    "df_2022_half = pd.DataFrame(list(db['USDT-ETH'].\n",
    "                              find({\"utc_time\":\n",
    "                                   {\"$gte\":start, \"$lt\":end}})))"
   ]
  },
  {
   "cell_type": "code",
   "execution_count": 11,
   "id": "5e30924f",
   "metadata": {},
   "outputs": [
    {
     "data": {
      "text/html": [
       "<div>\n",
       "<style scoped>\n",
       "    .dataframe tbody tr th:only-of-type {\n",
       "        vertical-align: middle;\n",
       "    }\n",
       "\n",
       "    .dataframe tbody tr th {\n",
       "        vertical-align: top;\n",
       "    }\n",
       "\n",
       "    .dataframe thead th {\n",
       "        text-align: right;\n",
       "    }\n",
       "</style>\n",
       "<table border=\"1\" class=\"dataframe\">\n",
       "  <thead>\n",
       "    <tr style=\"text-align: right;\">\n",
       "      <th></th>\n",
       "      <th>_id</th>\n",
       "      <th>market</th>\n",
       "      <th>candle_date_time_utc</th>\n",
       "      <th>candle_date_time_kst</th>\n",
       "      <th>opening_price</th>\n",
       "      <th>high_price</th>\n",
       "      <th>low_price</th>\n",
       "      <th>trade_price</th>\n",
       "      <th>timestamp</th>\n",
       "      <th>candle_acc_trade_price</th>\n",
       "      <th>candle_acc_trade_volume</th>\n",
       "      <th>unit</th>\n",
       "      <th>utc_time</th>\n",
       "    </tr>\n",
       "  </thead>\n",
       "  <tbody>\n",
       "    <tr>\n",
       "      <th>0</th>\n",
       "      <td>62e2645e00a01e5b221f7f86</td>\n",
       "      <td>USDT-ETH</td>\n",
       "      <td>2021-12-31 22:00:00</td>\n",
       "      <td>2022-01-01 07:00:00</td>\n",
       "      <td>3699.6330</td>\n",
       "      <td>3699.633</td>\n",
       "      <td>3686.6890</td>\n",
       "      <td>3698.24600</td>\n",
       "      <td>1640990369881</td>\n",
       "      <td>520.260630</td>\n",
       "      <td>0.140825</td>\n",
       "      <td>60</td>\n",
       "      <td>2022-01-01 00:00:00</td>\n",
       "    </tr>\n",
       "    <tr>\n",
       "      <th>1</th>\n",
       "      <td>62e2645e4c83e4856dfd8412</td>\n",
       "      <td>USDT-ETH</td>\n",
       "      <td>2021-12-31 22:00:00</td>\n",
       "      <td>2022-01-01 07:00:00</td>\n",
       "      <td>3699.6330</td>\n",
       "      <td>3699.633</td>\n",
       "      <td>3686.6890</td>\n",
       "      <td>3698.24600</td>\n",
       "      <td>1640990369881</td>\n",
       "      <td>520.260630</td>\n",
       "      <td>0.140825</td>\n",
       "      <td>60</td>\n",
       "      <td>2022-01-01 01:00:00</td>\n",
       "    </tr>\n",
       "    <tr>\n",
       "      <th>2</th>\n",
       "      <td>62e2645f9f3f7b702c24dde3</td>\n",
       "      <td>USDT-ETH</td>\n",
       "      <td>2022-01-01 01:00:00</td>\n",
       "      <td>2022-01-01 10:00:00</td>\n",
       "      <td>3724.8849</td>\n",
       "      <td>3738.963</td>\n",
       "      <td>3724.8849</td>\n",
       "      <td>3734.02314</td>\n",
       "      <td>1641002143205</td>\n",
       "      <td>258.692991</td>\n",
       "      <td>0.069228</td>\n",
       "      <td>60</td>\n",
       "      <td>2022-01-01 02:00:00</td>\n",
       "    </tr>\n",
       "  </tbody>\n",
       "</table>\n",
       "</div>"
      ],
      "text/plain": [
       "                        _id    market candle_date_time_utc  \\\n",
       "0  62e2645e00a01e5b221f7f86  USDT-ETH  2021-12-31 22:00:00   \n",
       "1  62e2645e4c83e4856dfd8412  USDT-ETH  2021-12-31 22:00:00   \n",
       "2  62e2645f9f3f7b702c24dde3  USDT-ETH  2022-01-01 01:00:00   \n",
       "\n",
       "  candle_date_time_kst  opening_price  high_price  low_price  trade_price  \\\n",
       "0  2022-01-01 07:00:00      3699.6330    3699.633  3686.6890   3698.24600   \n",
       "1  2022-01-01 07:00:00      3699.6330    3699.633  3686.6890   3698.24600   \n",
       "2  2022-01-01 10:00:00      3724.8849    3738.963  3724.8849   3734.02314   \n",
       "\n",
       "       timestamp  candle_acc_trade_price  candle_acc_trade_volume  unit  \\\n",
       "0  1640990369881              520.260630                 0.140825    60   \n",
       "1  1640990369881              520.260630                 0.140825    60   \n",
       "2  1641002143205              258.692991                 0.069228    60   \n",
       "\n",
       "             utc_time  \n",
       "0 2022-01-01 00:00:00  \n",
       "1 2022-01-01 01:00:00  \n",
       "2 2022-01-01 02:00:00  "
      ]
     },
     "metadata": {},
     "output_type": "display_data"
    },
    {
     "data": {
      "text/html": [
       "<div>\n",
       "<style scoped>\n",
       "    .dataframe tbody tr th:only-of-type {\n",
       "        vertical-align: middle;\n",
       "    }\n",
       "\n",
       "    .dataframe tbody tr th {\n",
       "        vertical-align: top;\n",
       "    }\n",
       "\n",
       "    .dataframe thead th {\n",
       "        text-align: right;\n",
       "    }\n",
       "</style>\n",
       "<table border=\"1\" class=\"dataframe\">\n",
       "  <thead>\n",
       "    <tr style=\"text-align: right;\">\n",
       "      <th></th>\n",
       "      <th>_id</th>\n",
       "      <th>market</th>\n",
       "      <th>candle_date_time_utc</th>\n",
       "      <th>candle_date_time_kst</th>\n",
       "      <th>opening_price</th>\n",
       "      <th>high_price</th>\n",
       "      <th>low_price</th>\n",
       "      <th>trade_price</th>\n",
       "      <th>timestamp</th>\n",
       "      <th>candle_acc_trade_price</th>\n",
       "      <th>candle_acc_trade_volume</th>\n",
       "      <th>unit</th>\n",
       "      <th>utc_time</th>\n",
       "    </tr>\n",
       "  </thead>\n",
       "  <tbody>\n",
       "    <tr>\n",
       "      <th>4340</th>\n",
       "      <td>62e288bf197539a2eaebf996</td>\n",
       "      <td>USDT-ETH</td>\n",
       "      <td>2022-06-30 20:00:00</td>\n",
       "      <td>2022-07-01 05:00:00</td>\n",
       "      <td>1056.540458</td>\n",
       "      <td>1056.540458</td>\n",
       "      <td>1056.540458</td>\n",
       "      <td>1056.540458</td>\n",
       "      <td>1656621882895</td>\n",
       "      <td>1.093963</td>\n",
       "      <td>0.001035</td>\n",
       "      <td>60</td>\n",
       "      <td>2022-06-30 21:00:00</td>\n",
       "    </tr>\n",
       "    <tr>\n",
       "      <th>4341</th>\n",
       "      <td>62e288bf3119099fbab55d1b</td>\n",
       "      <td>USDT-ETH</td>\n",
       "      <td>2022-06-30 20:00:00</td>\n",
       "      <td>2022-07-01 05:00:00</td>\n",
       "      <td>1056.540458</td>\n",
       "      <td>1056.540458</td>\n",
       "      <td>1056.540458</td>\n",
       "      <td>1056.540458</td>\n",
       "      <td>1656621882895</td>\n",
       "      <td>1.093963</td>\n",
       "      <td>0.001035</td>\n",
       "      <td>60</td>\n",
       "      <td>2022-06-30 22:00:00</td>\n",
       "    </tr>\n",
       "    <tr>\n",
       "      <th>4342</th>\n",
       "      <td>62e288c231784415b8d6515f</td>\n",
       "      <td>USDT-ETH</td>\n",
       "      <td>2022-06-30 20:00:00</td>\n",
       "      <td>2022-07-01 05:00:00</td>\n",
       "      <td>1056.540458</td>\n",
       "      <td>1056.540458</td>\n",
       "      <td>1056.540458</td>\n",
       "      <td>1056.540458</td>\n",
       "      <td>1656621882895</td>\n",
       "      <td>1.093963</td>\n",
       "      <td>0.001035</td>\n",
       "      <td>60</td>\n",
       "      <td>2022-06-30 23:00:00</td>\n",
       "    </tr>\n",
       "  </tbody>\n",
       "</table>\n",
       "</div>"
      ],
      "text/plain": [
       "                           _id    market candle_date_time_utc  \\\n",
       "4340  62e288bf197539a2eaebf996  USDT-ETH  2022-06-30 20:00:00   \n",
       "4341  62e288bf3119099fbab55d1b  USDT-ETH  2022-06-30 20:00:00   \n",
       "4342  62e288c231784415b8d6515f  USDT-ETH  2022-06-30 20:00:00   \n",
       "\n",
       "     candle_date_time_kst  opening_price   high_price    low_price  \\\n",
       "4340  2022-07-01 05:00:00    1056.540458  1056.540458  1056.540458   \n",
       "4341  2022-07-01 05:00:00    1056.540458  1056.540458  1056.540458   \n",
       "4342  2022-07-01 05:00:00    1056.540458  1056.540458  1056.540458   \n",
       "\n",
       "      trade_price      timestamp  candle_acc_trade_price  \\\n",
       "4340  1056.540458  1656621882895                1.093963   \n",
       "4341  1056.540458  1656621882895                1.093963   \n",
       "4342  1056.540458  1656621882895                1.093963   \n",
       "\n",
       "      candle_acc_trade_volume  unit            utc_time  \n",
       "4340                 0.001035    60 2022-06-30 21:00:00  \n",
       "4341                 0.001035    60 2022-06-30 22:00:00  \n",
       "4342                 0.001035    60 2022-06-30 23:00:00  "
      ]
     },
     "metadata": {},
     "output_type": "display_data"
    }
   ],
   "source": [
    "display(df_2022_half.head(3))\n",
    "display(df_2022_half.tail(3))"
   ]
  },
  {
   "cell_type": "code",
   "execution_count": 12,
   "id": "b7603482",
   "metadata": {},
   "outputs": [
    {
     "data": {
      "text/plain": [
       "{'_id': ObjectId('62e210ae752507ca4ac9615e'),\n",
       " 'BTC-News': ['Viewpoint: Extended BTC, SREs will cap D4 RIN gains',\n",
       "  'Scammers turning to bitcoin machines to avoid police detection',\n",
       "  'Why the UN Secretary General wants to embrace blockchain',\n",
       "  'Bitcoin Is up 9,000,000% in a Decade: Is It Time for You to Invest?',\n",
       "  'How to Get a Bitcoin Wallet: A Step-by Step Guide (With ...',\n",
       "  \"The Taxman Is After Your Bitcoin: Harvest Your Losses Before It's Too Late\",\n",
       "  'Bitcoin Loves Weekends: Saturday Was The Best ROI Day Throughout 2019',\n",
       "  'Recap Of 2019: Those Were The Biggest Bitcoin & Crypto Events Of The Year',\n",
       "  'TronWallet 3 now live with full bitcoin support, swaps and new portfolio feature',\n",
       "  'XRP Price Lost 66% Against BTC in 2019 — Will the Pain End in 2020?',\n",
       "  '‘Fatal flaw’ set to destroy Bitcoin on Jan. 1, according to Craig Wright',\n",
       "  'Decentralized Social Media: Classifying Sites In Five Categories',\n",
       "  'Why China Is So Afraid Of Cryptocurrencies',\n",
       "  'BitMEX Ends Year With Additional 13K BTC in Its Insurance Fund, Up 61%'],\n",
       " 'ETH-News': ['Why the UN Secretary General wants to embrace blockchain',\n",
       "  'Eartheater and LEYA collaborate to ethereal effect on Angel Lust',\n",
       "  'Tick bites can make you really sick — so what is the best way to deal with them?',\n",
       "  'How to Get a Bitcoin Wallet: A Step-by Step Guide (With ...',\n",
       "  'Delhi govt renames Pragati Maidan metro station to Supreme Court metro station',\n",
       "  '1,000,000,000 XRP Worth $192 Million Released From Escrow – Funds Free for Ripple to Sell on the Open Market',\n",
       "  'High-Profile Crypto Interview: Bitcoin Supporter and SEC Commissioner Hester Peirce Ends Year With Most Pop...',\n",
       "  'Bitcoin Loves Weekends: Saturday Was The Best ROI Day Throughout 2019',\n",
       "  'Viewpoint: MTBE, ethanol face off in Mexico',\n",
       "  'Loonie Closes 2019 at a New High, More to Come in 2020?',\n",
       "  'XRP Price Lost 66% Against BTC in 2019 — Will the Pain End in 2020?',\n",
       "  '‘Fatal flaw’ set to destroy Bitcoin on Jan. 1, according to Craig Wright',\n",
       "  'FTSE 100 ends 2019 with a whimper, but posts a bang for the year and the decade',\n",
       "  'Decentralized Social Media: Classifying Sites In Five Categories',\n",
       "  'Why China Is So Afraid Of Cryptocurrencies',\n",
       "  'BitMEX Ends Year With Additional 13K BTC in Its Insurance Fund, Up 61%'],\n",
       " 'etz_time': datetime.datetime(2019, 12, 31, 23, 59)}"
      ]
     },
     "execution_count": 12,
     "metadata": {},
     "output_type": "execute_result"
    }
   ],
   "source": [
    "next(db['news'].find().limit(1).sort([(\"utc_time\", -1)]))"
   ]
  }
 ],
 "metadata": {
  "kernelspec": {
   "display_name": "EDA-exercise",
   "language": "python",
   "name": "eda-exercise"
  },
  "language_info": {
   "codemirror_mode": {
    "name": "ipython",
    "version": 3
   },
   "file_extension": ".py",
   "mimetype": "text/x-python",
   "name": "python",
   "nbconvert_exporter": "python",
   "pygments_lexer": "ipython3",
   "version": "3.8.13"
  }
 },
 "nbformat": 4,
 "nbformat_minor": 5
}

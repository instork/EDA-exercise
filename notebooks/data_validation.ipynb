{
 "cells": [
  {
   "cell_type": "code",
   "execution_count": 1,
   "id": "ccbc6743",
   "metadata": {},
   "outputs": [],
   "source": [
    "import os\n",
    "import pandas as pd\n",
    "from dotenv import load_dotenv\n",
    "from pymongo import MongoClient\n"
   ]
  },
  {
   "cell_type": "code",
   "execution_count": 2,
   "id": "2421db77",
   "metadata": {
    "scrolled": true
   },
   "outputs": [
    {
     "data": {
      "text/plain": [
       "['admin', 'config', 'index_check', 'local', 'test_db']"
      ]
     },
     "metadata": {},
     "output_type": "display_data"
    },
    {
     "data": {
      "text/plain": [
       "['USDT-ETH', 'fred', 'USDT-BTC', 'news']"
      ]
     },
     "metadata": {},
     "output_type": "display_data"
    }
   ],
   "source": [
    "\n",
    "load_dotenv('../.env')\n",
    "user = os.getenv(\"MONGODB_USER\")\n",
    "pwd = os.getenv(\"MONGODB_PWD\")\n",
    "host = os.getenv(\"MONGODB_HOST\")\n",
    "port = os.getenv(\"MONGODB_PORT\")\n",
    "\n",
    "\n",
    "client = MongoClient(f'mongodb://{user}:{pwd}@{host}:{port}')\n",
    "db = client.test_db\n",
    "display(client.list_database_names())\n",
    "display(db.list_collection_names())"
   ]
  },
  {
   "cell_type": "code",
   "execution_count": 3,
   "id": "82b29080",
   "metadata": {},
   "outputs": [],
   "source": [
    "\n",
    "# news_df = pd.DataFrame(list(db['news'].find({})))\n"
   ]
  },
  {
   "cell_type": "code",
   "execution_count": 4,
   "id": "750a5c67",
   "metadata": {},
   "outputs": [],
   "source": [
    "\n",
    "eth_df = pd.DataFrame(list(db['USDT-ETH'].find({})))\n",
    "btc_df = pd.DataFrame(list(db['USDT-BTC'].find({})))\n",
    "fred_df = pd.DataFrame(list(db['fred'].find({})))\n"
   ]
  },
  {
   "cell_type": "code",
   "execution_count": 5,
   "id": "f4240c98",
   "metadata": {},
   "outputs": [],
   "source": [
    "client.close()"
   ]
  },
  {
   "cell_type": "code",
   "execution_count": 6,
   "id": "b54271f2",
   "metadata": {
    "scrolled": true
   },
   "outputs": [
    {
     "data": {
      "text/html": [
       "<div>\n",
       "<style scoped>\n",
       "    .dataframe tbody tr th:only-of-type {\n",
       "        vertical-align: middle;\n",
       "    }\n",
       "\n",
       "    .dataframe tbody tr th {\n",
       "        vertical-align: top;\n",
       "    }\n",
       "\n",
       "    .dataframe thead th {\n",
       "        text-align: right;\n",
       "    }\n",
       "</style>\n",
       "<table border=\"1\" class=\"dataframe\">\n",
       "  <thead>\n",
       "    <tr style=\"text-align: right;\">\n",
       "      <th></th>\n",
       "      <th>_id</th>\n",
       "      <th>T5YIE</th>\n",
       "      <th>T5YIFR</th>\n",
       "      <th>T10YIE</th>\n",
       "      <th>T10Y2Y</th>\n",
       "      <th>SP500</th>\n",
       "      <th>DJIA</th>\n",
       "      <th>etz_time</th>\n",
       "    </tr>\n",
       "  </thead>\n",
       "  <tbody>\n",
       "    <tr>\n",
       "      <th>0</th>\n",
       "      <td>62e1f5f9b451da94428d02ac</td>\n",
       "      <td>1.68</td>\n",
       "      <td>1.86</td>\n",
       "      <td>1.77</td>\n",
       "      <td>0.34</td>\n",
       "      <td>3230.78</td>\n",
       "      <td>28538.44</td>\n",
       "      <td>2019-12-31 23:59:00</td>\n",
       "    </tr>\n",
       "    <tr>\n",
       "      <th>1</th>\n",
       "      <td>62e1f60287defd03e3f2b514</td>\n",
       "      <td>NaN</td>\n",
       "      <td>NaN</td>\n",
       "      <td>NaN</td>\n",
       "      <td>NaN</td>\n",
       "      <td>NaN</td>\n",
       "      <td>NaN</td>\n",
       "      <td>2020-01-01 23:59:00</td>\n",
       "    </tr>\n",
       "    <tr>\n",
       "      <th>2</th>\n",
       "      <td>62e1f60ba8ff3f491e99d07f</td>\n",
       "      <td>1.72</td>\n",
       "      <td>1.88</td>\n",
       "      <td>1.80</td>\n",
       "      <td>0.30</td>\n",
       "      <td>3257.85</td>\n",
       "      <td>28868.80</td>\n",
       "      <td>2020-01-02 23:59:00</td>\n",
       "    </tr>\n",
       "    <tr>\n",
       "      <th>3</th>\n",
       "      <td>62e1f6130b3f3cc52b8c1b90</td>\n",
       "      <td>1.69</td>\n",
       "      <td>1.85</td>\n",
       "      <td>1.77</td>\n",
       "      <td>0.27</td>\n",
       "      <td>3234.85</td>\n",
       "      <td>28634.88</td>\n",
       "      <td>2020-01-03 23:59:00</td>\n",
       "    </tr>\n",
       "    <tr>\n",
       "      <th>4</th>\n",
       "      <td>62e1f61c2b3bf67a1a736ce3</td>\n",
       "      <td>NaN</td>\n",
       "      <td>NaN</td>\n",
       "      <td>NaN</td>\n",
       "      <td>NaN</td>\n",
       "      <td>NaN</td>\n",
       "      <td>NaN</td>\n",
       "      <td>2020-01-04 23:59:00</td>\n",
       "    </tr>\n",
       "  </tbody>\n",
       "</table>\n",
       "</div>"
      ],
      "text/plain": [
       "                        _id  T5YIE  T5YIFR  T10YIE  T10Y2Y    SP500      DJIA  \\\n",
       "0  62e1f5f9b451da94428d02ac   1.68    1.86    1.77    0.34  3230.78  28538.44   \n",
       "1  62e1f60287defd03e3f2b514    NaN     NaN     NaN     NaN      NaN       NaN   \n",
       "2  62e1f60ba8ff3f491e99d07f   1.72    1.88    1.80    0.30  3257.85  28868.80   \n",
       "3  62e1f6130b3f3cc52b8c1b90   1.69    1.85    1.77    0.27  3234.85  28634.88   \n",
       "4  62e1f61c2b3bf67a1a736ce3    NaN     NaN     NaN     NaN      NaN       NaN   \n",
       "\n",
       "             etz_time  \n",
       "0 2019-12-31 23:59:00  \n",
       "1 2020-01-01 23:59:00  \n",
       "2 2020-01-02 23:59:00  \n",
       "3 2020-01-03 23:59:00  \n",
       "4 2020-01-04 23:59:00  "
      ]
     },
     "execution_count": 6,
     "metadata": {},
     "output_type": "execute_result"
    }
   ],
   "source": [
    "fred_df.head()"
   ]
  },
  {
   "cell_type": "markdown",
   "id": "31295fc5",
   "metadata": {},
   "source": [
    "## missing 데이터 확인"
   ]
  },
  {
   "cell_type": "code",
   "execution_count": 7,
   "id": "60d83ca7",
   "metadata": {},
   "outputs": [],
   "source": [
    "\n",
    "def check_missing(df:pd.DataFrame, time_col:str , freq:str):\n",
    "    \"\"\" check if data has missing rows\n",
    "    Args:\n",
    "        time_col: 'etz_time', 'utc_time'\n",
    "        freq: '1H', '1D'\n",
    "    \"\"\"\n",
    "    min_time = df[time_col].min()\n",
    "    max_time = df[time_col].max()\n",
    "    date_index = pd.date_range(start=min_time,\n",
    "                               end=max_time, freq=freq)\n",
    "    print(\"데이터 시간 범위\", end=': ')\n",
    "    print(date_index[0], date_index[-1])\n",
    "    print(\"데이터 시간 범위\", end=': ')\n",
    "    print(min_time, max_time)\n",
    "    print(len(date_index), len(df))\n",
    "    assert len(date_index) == len(df)\n",
    "    \n"
   ]
  },
  {
   "cell_type": "code",
   "execution_count": 8,
   "id": "7ce08b1a",
   "metadata": {},
   "outputs": [
    {
     "name": "stdout",
     "output_type": "stream",
     "text": [
      "데이터 시간 범위: 2020-01-01 00:00:00 2022-07-28 13:00:00\n",
      "데이터 시간 범위: 2020-01-01 00:00:00 2022-07-28 13:00:00\n",
      "22550 22550\n"
     ]
    }
   ],
   "source": [
    "check_missing(btc_df, 'utc_time', '1H')"
   ]
  },
  {
   "cell_type": "code",
   "execution_count": 9,
   "id": "b864b99b",
   "metadata": {
    "scrolled": true
   },
   "outputs": [
    {
     "name": "stdout",
     "output_type": "stream",
     "text": [
      "데이터 시간 범위: 2020-01-01 00:00:00 2022-07-28 13:00:00\n",
      "데이터 시간 범위: 2020-01-01 00:00:00 2022-07-28 13:00:00\n",
      "22550 22550\n"
     ]
    }
   ],
   "source": [
    "check_missing(eth_df, 'utc_time', '1H')"
   ]
  },
  {
   "cell_type": "code",
   "execution_count": 10,
   "id": "a9168aac",
   "metadata": {},
   "outputs": [
    {
     "name": "stdout",
     "output_type": "stream",
     "text": [
      "데이터 시간 범위: 2019-12-31 23:59:00 2022-07-26 23:59:00\n",
      "데이터 시간 범위: 2019-12-31 23:59:00 2022-07-26 23:59:00\n",
      "939 939\n"
     ]
    }
   ],
   "source": [
    "check_missing(fred_df, 'etz_time', '1D')"
   ]
  },
  {
   "cell_type": "markdown",
   "id": "b4c6a944",
   "metadata": {},
   "source": [
    "## Summer time 적용하지 않은 est 시간 적용"
   ]
  },
  {
   "cell_type": "code",
   "execution_count": 11,
   "id": "02e95800",
   "metadata": {},
   "outputs": [],
   "source": [
    "import datetime as dt"
   ]
  },
  {
   "cell_type": "code",
   "execution_count": 12,
   "id": "ad20f9a4",
   "metadata": {},
   "outputs": [],
   "source": [
    "def make_etz_time(df: pd.DataFrame, utc_col:str='utc_time', new_col:str='etz_time', time_diff = -5):\n",
    "    df[new_col] = df[utc_col] + dt.timedelta(hours=time_diff)\n",
    "    return df\n",
    "    \n",
    "btc_df = make_etz_time(btc_df)\n",
    "eth_df = make_etz_time(eth_df)\n",
    "\n",
    "\n"
   ]
  },
  {
   "cell_type": "markdown",
   "id": "15d1fabb",
   "metadata": {},
   "source": [
    "## 서버 점검시간 & 누락 데이터 확인 확인"
   ]
  },
  {
   "cell_type": "code",
   "execution_count": 13,
   "id": "670352b0",
   "metadata": {},
   "outputs": [],
   "source": [
    "btc_df = btc_df.sort_values('utc_time')\n",
    "eth_df = eth_df.sort_values('utc_time')"
   ]
  },
  {
   "cell_type": "code",
   "execution_count": 14,
   "id": "b4ff9fc8",
   "metadata": {},
   "outputs": [
    {
     "name": "stdout",
     "output_type": "stream",
     "text": [
      "점검시간 비율: 0.1202\n",
      "점검시간 비율: 0.3753\n"
     ]
    }
   ],
   "source": [
    "def check_server_maintenance_time(df):\n",
    "    df = df[df.candle_date_time_utc != df.utc_time - dt.timedelta(hours=1)]\n",
    "    return df\n",
    "    \n",
    "missing_btc_df = check_server_maintenance_time(btc_df)\n",
    "missing_eth_df = check_server_maintenance_time(eth_df)\n",
    "\n",
    "print(f\"점검시간 비율: {len(missing_btc_df) / len(btc_df):.4f}\")\n",
    "print(f\"점검시간 비율: {len(missing_eth_df) / len(eth_df):.4f}\")\n"
   ]
  },
  {
   "cell_type": "markdown",
   "id": "a6568cce",
   "metadata": {},
   "source": [
    "## 일단위 데이터로 groupby\n",
    "- opening_price\t시가\tDouble\n",
    "- high_price\t고가\tDouble\n",
    "- low_price\t저가\tDouble\n",
    "- trade_price\t종가\tDouble\n",
    "- candle_acc_trade_price\t누적 거래 금액\tDouble\n",
    "- candle_acc_trade_volume\t누적 거래량\tDouble"
   ]
  },
  {
   "cell_type": "code",
   "execution_count": 15,
   "id": "a952dd01",
   "metadata": {},
   "outputs": [],
   "source": [
    "\n",
    "btc_df['etz_date'] = btc_df['etz_time'].apply(lambda x: x.date())\n",
    "conditions = {\"opening_price\": \"first\",\n",
    "            \"high_price\": \"max\", \n",
    "            \"low_price\": \"min\",  \n",
    "            \"trade_price\": \"last\",\n",
    "            \"candle_acc_trade_price\": \"sum\",\n",
    "            \"candle_acc_trade_volume\": \"sum\"\n",
    "}\n",
    "\n",
    "daily_btc_df = btc_df.groupby('etz_date').agg(conditions)"
   ]
  },
  {
   "cell_type": "code",
   "execution_count": 16,
   "id": "5933644e",
   "metadata": {},
   "outputs": [
    {
     "data": {
      "text/html": [
       "<div>\n",
       "<style scoped>\n",
       "    .dataframe tbody tr th:only-of-type {\n",
       "        vertical-align: middle;\n",
       "    }\n",
       "\n",
       "    .dataframe tbody tr th {\n",
       "        vertical-align: top;\n",
       "    }\n",
       "\n",
       "    .dataframe thead th {\n",
       "        text-align: right;\n",
       "    }\n",
       "</style>\n",
       "<table border=\"1\" class=\"dataframe\">\n",
       "  <thead>\n",
       "    <tr style=\"text-align: right;\">\n",
       "      <th></th>\n",
       "      <th>opening_price</th>\n",
       "      <th>high_price</th>\n",
       "      <th>low_price</th>\n",
       "      <th>trade_price</th>\n",
       "      <th>candle_acc_trade_price</th>\n",
       "      <th>candle_acc_trade_volume</th>\n",
       "    </tr>\n",
       "    <tr>\n",
       "      <th>etz_date</th>\n",
       "      <th></th>\n",
       "      <th></th>\n",
       "      <th></th>\n",
       "      <th></th>\n",
       "      <th></th>\n",
       "      <th></th>\n",
       "    </tr>\n",
       "  </thead>\n",
       "  <tbody>\n",
       "    <tr>\n",
       "      <th>2019-12-31</th>\n",
       "      <td>7440.0</td>\n",
       "      <td>7440.000000</td>\n",
       "      <td>7420.000</td>\n",
       "      <td>7420.0</td>\n",
       "      <td>65.363881</td>\n",
       "      <td>0.008798</td>\n",
       "    </tr>\n",
       "    <tr>\n",
       "      <th>2020-01-01</th>\n",
       "      <td>7420.0</td>\n",
       "      <td>7480.000000</td>\n",
       "      <td>6900.000</td>\n",
       "      <td>7385.0</td>\n",
       "      <td>17619.151538</td>\n",
       "      <td>2.473489</td>\n",
       "    </tr>\n",
       "    <tr>\n",
       "      <th>2020-01-02</th>\n",
       "      <td>7345.0</td>\n",
       "      <td>7435.000000</td>\n",
       "      <td>6999.999</td>\n",
       "      <td>7145.0</td>\n",
       "      <td>11756.343703</td>\n",
       "      <td>1.640328</td>\n",
       "    </tr>\n",
       "    <tr>\n",
       "      <th>2020-01-03</th>\n",
       "      <td>7170.0</td>\n",
       "      <td>7649.999998</td>\n",
       "      <td>7170.000</td>\n",
       "      <td>7505.0</td>\n",
       "      <td>12236.129466</td>\n",
       "      <td>1.671004</td>\n",
       "    </tr>\n",
       "    <tr>\n",
       "      <th>2020-01-04</th>\n",
       "      <td>7325.0</td>\n",
       "      <td>7643.000000</td>\n",
       "      <td>7325.000</td>\n",
       "      <td>7643.0</td>\n",
       "      <td>4375.350268</td>\n",
       "      <td>0.578996</td>\n",
       "    </tr>\n",
       "  </tbody>\n",
       "</table>\n",
       "</div>"
      ],
      "text/plain": [
       "            opening_price   high_price  low_price  trade_price  \\\n",
       "etz_date                                                         \n",
       "2019-12-31         7440.0  7440.000000   7420.000       7420.0   \n",
       "2020-01-01         7420.0  7480.000000   6900.000       7385.0   \n",
       "2020-01-02         7345.0  7435.000000   6999.999       7145.0   \n",
       "2020-01-03         7170.0  7649.999998   7170.000       7505.0   \n",
       "2020-01-04         7325.0  7643.000000   7325.000       7643.0   \n",
       "\n",
       "            candle_acc_trade_price  candle_acc_trade_volume  \n",
       "etz_date                                                     \n",
       "2019-12-31               65.363881                 0.008798  \n",
       "2020-01-01            17619.151538                 2.473489  \n",
       "2020-01-02            11756.343703                 1.640328  \n",
       "2020-01-03            12236.129466                 1.671004  \n",
       "2020-01-04             4375.350268                 0.578996  "
      ]
     },
     "execution_count": 16,
     "metadata": {},
     "output_type": "execute_result"
    }
   ],
   "source": [
    "daily_btc_df.head()"
   ]
  },
  {
   "cell_type": "code",
   "execution_count": 17,
   "id": "51a3e46c",
   "metadata": {},
   "outputs": [
    {
     "data": {
      "text/plain": [
       "<AxesSubplot:xlabel='etz_date'>"
      ]
     },
     "execution_count": 17,
     "metadata": {},
     "output_type": "execute_result"
    },
    {
     "data": {
      "image/png": "[encoded data removed]",
      "text/plain": [
       "<Figure size 432x288 with 1 Axes>"
      ]
     },
     "metadata": {
      "needs_background": "light"
     },
     "output_type": "display_data"
    }
   ],
   "source": [
    "daily_btc_df.trade_price.plot()"
   ]
  },
  {
   "cell_type": "code",
   "execution_count": 18,
   "id": "5c0f2697",
   "metadata": {},
   "outputs": [
    {
     "data": {
      "text/plain": [
       "<AxesSubplot:>"
      ]
     },
     "execution_count": 18,
     "metadata": {},
     "output_type": "execute_result"
    },
    {
     "data": {
      "image/png": "[encoded data removed]",
      "text/plain": [
       "<Figure size 432x288 with 1 Axes>"
      ]
     },
     "metadata": {
      "needs_background": "light"
     },
     "output_type": "display_data"
    }
   ],
   "source": [
    "btc_df.trade_price.plot()"
   ]
  },
  {
   "cell_type": "markdown",
   "id": "16df0c08",
   "metadata": {},
   "source": [
    "## 로그 차분 및 정상성 확인\n",
    "\n",
    "- 1차 차분"
   ]
  },
  {
   "cell_type": "code",
   "execution_count": 19,
   "id": "a1e89a50",
   "metadata": {},
   "outputs": [],
   "source": [
    "import numpy as np\n",
    "def make_log_df(df:pd.DataFrame, col_name:str):\n",
    "    df[f'log_dff_{col_name}'] = np.log(df[col_name]) - np.log(df[col_name].shift(1))\n",
    "    return df\n"
   ]
  },
  {
   "cell_type": "code",
   "execution_count": 20,
   "id": "1931c9f4",
   "metadata": {},
   "outputs": [],
   "source": [
    "btc_df = make_log_df(btc_df, 'trade_price')\n",
    "daily_btc_df = make_log_df(daily_btc_df, 'trade_price')"
   ]
  },
  {
   "cell_type": "code",
   "execution_count": 21,
   "id": "7f839480",
   "metadata": {},
   "outputs": [
    {
     "data": {
      "text/plain": [
       "<AxesSubplot:>"
      ]
     },
     "execution_count": 21,
     "metadata": {},
     "output_type": "execute_result"
    },
    {
     "data": {
      "image/png": "[encoded data removed]",
      "text/plain": [
       "<Figure size 432x288 with 1 Axes>"
      ]
     },
     "metadata": {
      "needs_background": "light"
     },
     "output_type": "display_data"
    }
   ],
   "source": [
    "btc_df.log_dff_trade_price.plot()\n"
   ]
  },
  {
   "cell_type": "code",
   "execution_count": 22,
   "id": "7779eda1",
   "metadata": {},
   "outputs": [
    {
     "data": {
      "text/plain": [
       "<AxesSubplot:xlabel='etz_date'>"
      ]
     },
     "execution_count": 22,
     "metadata": {},
     "output_type": "execute_result"
    },
    {
     "data": {
      "image/png": "[encoded data removed]",
      "text/plain": [
       "<Figure size 432x288 with 1 Axes>"
      ]
     },
     "metadata": {
      "needs_background": "light"
     },
     "output_type": "display_data"
    }
   ],
   "source": [
    "daily_btc_df.log_dff_trade_price.plot()"
   ]
  },
  {
   "cell_type": "code",
   "execution_count": 25,
   "id": "e0b9828a",
   "metadata": {},
   "outputs": [],
   "source": [
    "\n",
    "import pandas_datareader.data as web\n",
    "import numpy as np\n",
    "\n",
    "import statsmodels.tsa.api as tsa\n",
    "from statsmodels.graphics.tsaplots import plot_acf, plot_pacf\n",
    "from statsmodels.tsa.stattools import acf, q_stat, adfuller\n",
    "from scipy.stats import probplot, moment\n",
    "\n",
    "import matplotlib.pyplot as plt\n",
    "import seaborn as sns\n",
    "\n"
   ]
  },
  {
   "cell_type": "code",
   "execution_count": 26,
   "id": "f288ee4d",
   "metadata": {},
   "outputs": [],
   "source": [
    "industrial_production = web.DataReader('IPGMFN', 'fred', '1988', '2017-12').squeeze().dropna()\n",
    "nasdaq = web.DataReader('NASDAQCOM', 'fred', '1990', '2017-12-31').squeeze().dropna()\n",
    "\n"
   ]
  },
  {
   "cell_type": "code",
   "execution_count": 40,
   "id": "88b5cfc6",
   "metadata": {},
   "outputs": [],
   "source": [
    "?tsa.seasonal_decompose"
   ]
  },
  {
   "cell_type": "code",
   "execution_count": 33,
   "id": "0db6cea5",
   "metadata": {},
   "outputs": [
    {
     "data": {
      "text/plain": [
       "DATE\n",
       "1988-01-01    55.8215\n",
       "1988-02-01    57.0107\n",
       "1988-03-01    57.6902\n",
       "1988-04-01    57.9181\n",
       "1988-05-01    58.0092\n",
       "Name: IPGMFN, dtype: float64"
      ]
     },
     "execution_count": 33,
     "metadata": {},
     "output_type": "execute_result"
    }
   ],
   "source": [
    "industrial_production.head()"
   ]
  },
  {
   "cell_type": "code",
   "execution_count": 37,
   "id": "58c532e0",
   "metadata": {},
   "outputs": [],
   "source": [
    "time_btc_df = btc_df[['etz_time','trade_price']]"
   ]
  },
  {
   "cell_type": "code",
   "execution_count": 38,
   "id": "ce3e75d9",
   "metadata": {},
   "outputs": [
    {
     "data": {
      "text/html": [
       "<div>\n",
       "<style scoped>\n",
       "    .dataframe tbody tr th:only-of-type {\n",
       "        vertical-align: middle;\n",
       "    }\n",
       "\n",
       "    .dataframe tbody tr th {\n",
       "        vertical-align: top;\n",
       "    }\n",
       "\n",
       "    .dataframe thead th {\n",
       "        text-align: right;\n",
       "    }\n",
       "</style>\n",
       "<table border=\"1\" class=\"dataframe\">\n",
       "  <thead>\n",
       "    <tr style=\"text-align: right;\">\n",
       "      <th></th>\n",
       "      <th>etz_time</th>\n",
       "      <th>trade_price</th>\n",
       "    </tr>\n",
       "  </thead>\n",
       "  <tbody>\n",
       "    <tr>\n",
       "      <th>0</th>\n",
       "      <td>2019-12-31 19:00:00</td>\n",
       "      <td>7440.0</td>\n",
       "    </tr>\n",
       "    <tr>\n",
       "      <th>1</th>\n",
       "      <td>2019-12-31 20:00:00</td>\n",
       "      <td>7440.0</td>\n",
       "    </tr>\n",
       "    <tr>\n",
       "      <th>2</th>\n",
       "      <td>2019-12-31 21:00:00</td>\n",
       "      <td>7420.0</td>\n",
       "    </tr>\n",
       "    <tr>\n",
       "      <th>3</th>\n",
       "      <td>2019-12-31 22:00:00</td>\n",
       "      <td>7420.0</td>\n",
       "    </tr>\n",
       "    <tr>\n",
       "      <th>4</th>\n",
       "      <td>2019-12-31 23:00:00</td>\n",
       "      <td>7420.0</td>\n",
       "    </tr>\n",
       "  </tbody>\n",
       "</table>\n",
       "</div>"
      ],
      "text/plain": [
       "             etz_time  trade_price\n",
       "0 2019-12-31 19:00:00       7440.0\n",
       "1 2019-12-31 20:00:00       7440.0\n",
       "2 2019-12-31 21:00:00       7420.0\n",
       "3 2019-12-31 22:00:00       7420.0\n",
       "4 2019-12-31 23:00:00       7420.0"
      ]
     },
     "execution_count": 38,
     "metadata": {},
     "output_type": "execute_result"
    }
   ],
   "source": [
    "time_btc_df.head()"
   ]
  },
  {
   "cell_type": "code",
   "execution_count": 35,
   "id": "23e2b170",
   "metadata": {},
   "outputs": [
    {
     "data": {
      "text/plain": [
       "Index(['_id', 'market', 'candle_date_time_utc', 'candle_date_time_kst',\n",
       "       'opening_price', 'high_price', 'low_price', 'trade_price', 'timestamp',\n",
       "       'candle_acc_trade_price', 'candle_acc_trade_volume', 'unit', 'utc_time',\n",
       "       'etz_time', 'etz_date', 'log_dff_trade_price'],\n",
       "      dtype='object')"
      ]
     },
     "execution_count": 35,
     "metadata": {},
     "output_type": "execute_result"
    }
   ],
   "source": [
    "btc_df.columns"
   ]
  },
  {
   "cell_type": "code",
   "execution_count": 32,
   "id": "29965a66",
   "metadata": {},
   "outputs": [
    {
     "data": {
      "text/plain": [
       "0       2019-12-31 19:00:00\n",
       "1       2019-12-31 20:00:00\n",
       "2       2019-12-31 21:00:00\n",
       "3       2019-12-31 22:00:00\n",
       "4       2019-12-31 23:00:00\n",
       "                ...        \n",
       "22546   2022-07-28 04:00:00\n",
       "22543   2022-07-28 05:00:00\n",
       "22548   2022-07-28 06:00:00\n",
       "22547   2022-07-28 07:00:00\n",
       "22549   2022-07-28 08:00:00\n",
       "Name: etz_time, Length: 22550, dtype: datetime64[ns]"
      ]
     },
     "execution_count": 32,
     "metadata": {},
     "output_type": "execute_result"
    }
   ],
   "source": [
    "btc_df."
   ]
  },
  {
   "cell_type": "code",
   "execution_count": 31,
   "id": "7f6890f6",
   "metadata": {},
   "outputs": [
    {
     "data": {
      "text/html": [
       "<div>\n",
       "<style scoped>\n",
       "    .dataframe tbody tr th:only-of-type {\n",
       "        vertical-align: middle;\n",
       "    }\n",
       "\n",
       "    .dataframe tbody tr th {\n",
       "        vertical-align: top;\n",
       "    }\n",
       "\n",
       "    .dataframe thead th {\n",
       "        text-align: right;\n",
       "    }\n",
       "</style>\n",
       "<table border=\"1\" class=\"dataframe\">\n",
       "  <thead>\n",
       "    <tr style=\"text-align: right;\">\n",
       "      <th></th>\n",
       "      <th>opening_price</th>\n",
       "      <th>high_price</th>\n",
       "      <th>low_price</th>\n",
       "      <th>trade_price</th>\n",
       "      <th>candle_acc_trade_price</th>\n",
       "      <th>candle_acc_trade_volume</th>\n",
       "      <th>log_dff_trade_price</th>\n",
       "    </tr>\n",
       "    <tr>\n",
       "      <th>etz_date</th>\n",
       "      <th></th>\n",
       "      <th></th>\n",
       "      <th></th>\n",
       "      <th></th>\n",
       "      <th></th>\n",
       "      <th></th>\n",
       "      <th></th>\n",
       "    </tr>\n",
       "  </thead>\n",
       "  <tbody>\n",
       "    <tr>\n",
       "      <th>2019-12-31</th>\n",
       "      <td>7440.0</td>\n",
       "      <td>7440.000000</td>\n",
       "      <td>7420.000</td>\n",
       "      <td>7420.0</td>\n",
       "      <td>65.363881</td>\n",
       "      <td>0.008798</td>\n",
       "      <td>NaN</td>\n",
       "    </tr>\n",
       "    <tr>\n",
       "      <th>2020-01-01</th>\n",
       "      <td>7420.0</td>\n",
       "      <td>7480.000000</td>\n",
       "      <td>6900.000</td>\n",
       "      <td>7385.0</td>\n",
       "      <td>17619.151538</td>\n",
       "      <td>2.473489</td>\n",
       "      <td>-0.004728</td>\n",
       "    </tr>\n",
       "    <tr>\n",
       "      <th>2020-01-02</th>\n",
       "      <td>7345.0</td>\n",
       "      <td>7435.000000</td>\n",
       "      <td>6999.999</td>\n",
       "      <td>7145.0</td>\n",
       "      <td>11756.343703</td>\n",
       "      <td>1.640328</td>\n",
       "      <td>-0.033038</td>\n",
       "    </tr>\n",
       "    <tr>\n",
       "      <th>2020-01-03</th>\n",
       "      <td>7170.0</td>\n",
       "      <td>7649.999998</td>\n",
       "      <td>7170.000</td>\n",
       "      <td>7505.0</td>\n",
       "      <td>12236.129466</td>\n",
       "      <td>1.671004</td>\n",
       "      <td>0.049157</td>\n",
       "    </tr>\n",
       "    <tr>\n",
       "      <th>2020-01-04</th>\n",
       "      <td>7325.0</td>\n",
       "      <td>7643.000000</td>\n",
       "      <td>7325.000</td>\n",
       "      <td>7643.0</td>\n",
       "      <td>4375.350268</td>\n",
       "      <td>0.578996</td>\n",
       "      <td>0.018221</td>\n",
       "    </tr>\n",
       "  </tbody>\n",
       "</table>\n",
       "</div>"
      ],
      "text/plain": [
       "            opening_price   high_price  low_price  trade_price  \\\n",
       "etz_date                                                         \n",
       "2019-12-31         7440.0  7440.000000   7420.000       7420.0   \n",
       "2020-01-01         7420.0  7480.000000   6900.000       7385.0   \n",
       "2020-01-02         7345.0  7435.000000   6999.999       7145.0   \n",
       "2020-01-03         7170.0  7649.999998   7170.000       7505.0   \n",
       "2020-01-04         7325.0  7643.000000   7325.000       7643.0   \n",
       "\n",
       "            candle_acc_trade_price  candle_acc_trade_volume  \\\n",
       "etz_date                                                      \n",
       "2019-12-31               65.363881                 0.008798   \n",
       "2020-01-01            17619.151538                 2.473489   \n",
       "2020-01-02            11756.343703                 1.640328   \n",
       "2020-01-03            12236.129466                 1.671004   \n",
       "2020-01-04             4375.350268                 0.578996   \n",
       "\n",
       "            log_dff_trade_price  \n",
       "etz_date                         \n",
       "2019-12-31                  NaN  \n",
       "2020-01-01            -0.004728  \n",
       "2020-01-02            -0.033038  \n",
       "2020-01-03             0.049157  \n",
       "2020-01-04             0.018221  "
      ]
     },
     "execution_count": 31,
     "metadata": {},
     "output_type": "execute_result"
    }
   ],
   "source": [
    "daily_btc_df.head()"
   ]
  },
  {
   "cell_type": "code",
   "execution_count": null,
   "id": "a8db5897",
   "metadata": {},
   "outputs": [],
   "source": [
    "\n",
    "components = tsa.seasonal_decompose(industrial_production, \n",
    "                                    model='additive')\n"
   ]
  },
  {
   "cell_type": "code",
   "execution_count": null,
   "id": "7e7fa065",
   "metadata": {},
   "outputs": [],
   "source": []
  },
  {
   "cell_type": "code",
   "execution_count": null,
   "id": "c07b8878",
   "metadata": {},
   "outputs": [],
   "source": []
  },
  {
   "cell_type": "code",
   "execution_count": null,
   "id": "3dec719e",
   "metadata": {},
   "outputs": [],
   "source": []
  },
  {
   "cell_type": "code",
   "execution_count": null,
   "id": "d5d60655",
   "metadata": {},
   "outputs": [],
   "source": []
  },
  {
   "cell_type": "code",
   "execution_count": null,
   "id": "40520fd4",
   "metadata": {},
   "outputs": [],
   "source": []
  },
  {
   "cell_type": "markdown",
   "id": "c60f1ce2",
   "metadata": {},
   "source": [
    "- Referecnes\n",
    "    - https://github.com/stefan-jansen/machine-learning-for-trading/blob/main/09_time_series_models/01_tsa_and_stationarity.ipynb\n",
    "    \n",
    "- Resources\n",
    "    - https://rfriend.tistory.com/510\n",
    "    - \n"
   ]
  },
  {
   "cell_type": "code",
   "execution_count": null,
   "id": "fd0ed467",
   "metadata": {},
   "outputs": [],
   "source": []
  },
  {
   "cell_type": "code",
   "execution_count": null,
   "id": "c85b9b56",
   "metadata": {},
   "outputs": [],
   "source": []
  },
  {
   "cell_type": "code",
   "execution_count": null,
   "id": "a16a312c",
   "metadata": {},
   "outputs": [],
   "source": []
  },
  {
   "cell_type": "code",
   "execution_count": null,
   "id": "aaac28e3",
   "metadata": {},
   "outputs": [],
   "source": []
  },
  {
   "cell_type": "code",
   "execution_count": null,
   "id": "d8120531",
   "metadata": {},
   "outputs": [],
   "source": []
  }
 ],
 "metadata": {
  "kernelspec": {
   "display_name": "EDA-exercise",
   "language": "python",
   "name": "eda-exercise"
  },
  "language_info": {
   "codemirror_mode": {
    "name": "ipython",
    "version": 3
   },
   "file_extension": ".py",
   "mimetype": "text/x-python",
   "name": "python",
   "nbconvert_exporter": "python",
   "pygments_lexer": "ipython3",
   "version": "3.8.13"
  }
 },
 "nbformat": 4,
 "nbformat_minor": 5
}

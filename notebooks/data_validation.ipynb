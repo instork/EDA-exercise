{
 "cells": [
  {
   "cell_type": "code",
   "execution_count": 1,
   "id": "3cffa739",
   "metadata": {},
   "outputs": [],
   "source": [
    "import os\n",
    "import pandas as pd\n",
    "from dotenv import load_dotenv\n",
    "from pymongo import MongoClient\n"
   ]
  },
  {
   "cell_type": "code",
   "execution_count": 2,
   "id": "af86878a",
   "metadata": {
    "scrolled": true
   },
   "outputs": [
    {
     "data": {
      "text/plain": [
       "['admin', 'config', 'index_check', 'local', 'test_db']"
      ]
     },
     "metadata": {},
     "output_type": "display_data"
    },
    {
     "data": {
      "text/plain": [
       "['USDT-ETH', 'fred', 'USDT-BTC', 'news']"
      ]
     },
     "metadata": {},
     "output_type": "display_data"
    }
   ],
   "source": [
    "\n",
    "load_dotenv('../.env')\n",
    "user = os.getenv(\"MONGODB_USER\")\n",
    "pwd = os.getenv(\"MONGODB_PWD\")\n",
    "host = os.getenv(\"MONGODB_HOST\")\n",
    "port = os.getenv(\"MONGODB_PORT\")\n",
    "\n",
    "\n",
    "client = MongoClient(f'mongodb://{user}:{pwd}@{host}:{port}')\n",
    "db = client.test_db\n",
    "display(client.list_database_names())\n",
    "display(db.list_collection_names())"
   ]
  },
  {
   "cell_type": "code",
   "execution_count": 3,
   "id": "ebbfbd29",
   "metadata": {},
   "outputs": [],
   "source": [
    "\n",
    "eth_df = pd.DataFrame(list(db['USDT-ETH'].find({})))\n",
    "btc_df = pd.DataFrame(list(db['USDT-BTC'].find({})))\n",
    "fred_df = pd.DataFrame(list(db['fred'].find({})))\n"
   ]
  },
  {
   "cell_type": "code",
   "execution_count": 4,
   "id": "f9cb8856",
   "metadata": {},
   "outputs": [],
   "source": [
    "client.close()"
   ]
  },
  {
   "cell_type": "code",
   "execution_count": 5,
   "id": "db439002",
   "metadata": {},
   "outputs": [
    {
     "data": {
      "text/html": [
       "<div>\n",
       "<style scoped>\n",
       "    .dataframe tbody tr th:only-of-type {\n",
       "        vertical-align: middle;\n",
       "    }\n",
       "\n",
       "    .dataframe tbody tr th {\n",
       "        vertical-align: top;\n",
       "    }\n",
       "\n",
       "    .dataframe thead th {\n",
       "        text-align: right;\n",
       "    }\n",
       "</style>\n",
       "<table border=\"1\" class=\"dataframe\">\n",
       "  <thead>\n",
       "    <tr style=\"text-align: right;\">\n",
       "      <th></th>\n",
       "      <th>_id</th>\n",
       "      <th>T5YIE</th>\n",
       "      <th>T5YIFR</th>\n",
       "      <th>T10YIE</th>\n",
       "      <th>T10Y2Y</th>\n",
       "      <th>SP500</th>\n",
       "      <th>DJIA</th>\n",
       "      <th>etz_time</th>\n",
       "    </tr>\n",
       "  </thead>\n",
       "  <tbody>\n",
       "    <tr>\n",
       "      <th>0</th>\n",
       "      <td>62e1f5f9b451da94428d02ac</td>\n",
       "      <td>1.68</td>\n",
       "      <td>1.86</td>\n",
       "      <td>1.77</td>\n",
       "      <td>0.34</td>\n",
       "      <td>3230.78</td>\n",
       "      <td>28538.44</td>\n",
       "      <td>2019-12-31 23:59:00</td>\n",
       "    </tr>\n",
       "    <tr>\n",
       "      <th>1</th>\n",
       "      <td>62e1f60287defd03e3f2b514</td>\n",
       "      <td>NaN</td>\n",
       "      <td>NaN</td>\n",
       "      <td>NaN</td>\n",
       "      <td>NaN</td>\n",
       "      <td>NaN</td>\n",
       "      <td>NaN</td>\n",
       "      <td>2020-01-01 23:59:00</td>\n",
       "    </tr>\n",
       "    <tr>\n",
       "      <th>2</th>\n",
       "      <td>62e1f60ba8ff3f491e99d07f</td>\n",
       "      <td>1.72</td>\n",
       "      <td>1.88</td>\n",
       "      <td>1.80</td>\n",
       "      <td>0.30</td>\n",
       "      <td>3257.85</td>\n",
       "      <td>28868.80</td>\n",
       "      <td>2020-01-02 23:59:00</td>\n",
       "    </tr>\n",
       "    <tr>\n",
       "      <th>3</th>\n",
       "      <td>62e1f6130b3f3cc52b8c1b90</td>\n",
       "      <td>1.69</td>\n",
       "      <td>1.85</td>\n",
       "      <td>1.77</td>\n",
       "      <td>0.27</td>\n",
       "      <td>3234.85</td>\n",
       "      <td>28634.88</td>\n",
       "      <td>2020-01-03 23:59:00</td>\n",
       "    </tr>\n",
       "    <tr>\n",
       "      <th>4</th>\n",
       "      <td>62e1f61c2b3bf67a1a736ce3</td>\n",
       "      <td>NaN</td>\n",
       "      <td>NaN</td>\n",
       "      <td>NaN</td>\n",
       "      <td>NaN</td>\n",
       "      <td>NaN</td>\n",
       "      <td>NaN</td>\n",
       "      <td>2020-01-04 23:59:00</td>\n",
       "    </tr>\n",
       "  </tbody>\n",
       "</table>\n",
       "</div>"
      ],
      "text/plain": [
       "                        _id  T5YIE  T5YIFR  T10YIE  T10Y2Y    SP500      DJIA  \\\n",
       "0  62e1f5f9b451da94428d02ac   1.68    1.86    1.77    0.34  3230.78  28538.44   \n",
       "1  62e1f60287defd03e3f2b514    NaN     NaN     NaN     NaN      NaN       NaN   \n",
       "2  62e1f60ba8ff3f491e99d07f   1.72    1.88    1.80    0.30  3257.85  28868.80   \n",
       "3  62e1f6130b3f3cc52b8c1b90   1.69    1.85    1.77    0.27  3234.85  28634.88   \n",
       "4  62e1f61c2b3bf67a1a736ce3    NaN     NaN     NaN     NaN      NaN       NaN   \n",
       "\n",
       "             etz_time  \n",
       "0 2019-12-31 23:59:00  \n",
       "1 2020-01-01 23:59:00  \n",
       "2 2020-01-02 23:59:00  \n",
       "3 2020-01-03 23:59:00  \n",
       "4 2020-01-04 23:59:00  "
      ]
     },
     "execution_count": 5,
     "metadata": {},
     "output_type": "execute_result"
    }
   ],
   "source": [
    "fred_df.head()"
   ]
  },
  {
   "cell_type": "markdown",
   "id": "39d69689",
   "metadata": {},
   "source": [
    "## missing 데이터 확인"
   ]
  },
  {
   "cell_type": "code",
   "execution_count": 6,
   "id": "d2e6d5d5",
   "metadata": {},
   "outputs": [],
   "source": [
    "\n",
    "def check_missing(df:pd.DataFrame, time_col:str , freq:str):\n",
    "    \"\"\" check if data has missing rows\n",
    "    Args:\n",
    "        time_col: 'etz_time', 'utc_time'\n",
    "        freq: '1H', '1D'\n",
    "    \"\"\"\n",
    "    min_time = df[time_col].min()\n",
    "    max_time = df[time_col].max()\n",
    "    date_index = pd.date_range(start=min_time,\n",
    "                               end=max_time, freq=freq)\n",
    "    print(\"데이터 시간 범위\", end=': ')\n",
    "    print(date_index[0], date_index[-1])\n",
    "    print(\"데이터 시간 범위\", end=': ')\n",
    "    print(min_time, max_time)\n",
    "    print(len(date_index), len(df))\n",
    "    assert len(date_index) == len(df)\n",
    "    \n"
   ]
  },
  {
   "cell_type": "code",
   "execution_count": 7,
   "id": "90f60777",
   "metadata": {},
   "outputs": [
    {
     "name": "stdout",
     "output_type": "stream",
     "text": [
      "데이터 시간 범위: 2020-01-01 00:00:00 2022-07-28 13:00:00\n",
      "데이터 시간 범위: 2020-01-01 00:00:00 2022-07-28 13:00:00\n",
      "22550 22550\n"
     ]
    }
   ],
   "source": [
    "check_missing(btc_df, 'utc_time', '1H')"
   ]
  },
  {
   "cell_type": "code",
   "execution_count": 8,
   "id": "cb819d36",
   "metadata": {
    "scrolled": true
   },
   "outputs": [
    {
     "name": "stdout",
     "output_type": "stream",
     "text": [
      "데이터 시간 범위: 2020-01-01 00:00:00 2022-07-28 13:00:00\n",
      "데이터 시간 범위: 2020-01-01 00:00:00 2022-07-28 13:00:00\n",
      "22550 22550\n"
     ]
    }
   ],
   "source": [
    "check_missing(eth_df, 'utc_time', '1H')"
   ]
  },
  {
   "cell_type": "code",
   "execution_count": 9,
   "id": "bd843e43",
   "metadata": {},
   "outputs": [
    {
     "name": "stdout",
     "output_type": "stream",
     "text": [
      "데이터 시간 범위: 2019-12-31 23:59:00 2022-07-26 23:59:00\n",
      "데이터 시간 범위: 2019-12-31 23:59:00 2022-07-26 23:59:00\n",
      "939 939\n"
     ]
    }
   ],
   "source": [
    "check_missing(fred_df, 'etz_time', '1D')"
   ]
  },
  {
   "cell_type": "markdown",
   "id": "e408dd8e",
   "metadata": {},
   "source": [
    "## Summer time 적용하지 않은 est 시간 적용"
   ]
  },
  {
   "cell_type": "code",
   "execution_count": 10,
   "id": "cc2f824c",
   "metadata": {},
   "outputs": [],
   "source": [
    "import datetime as dt"
   ]
  },
  {
   "cell_type": "code",
   "execution_count": 11,
   "id": "7c92a9c0",
   "metadata": {},
   "outputs": [],
   "source": [
    "def make_etz_time(df: pd.DataFrame, utc_col:str='utc_time', new_col:str='etz_time', time_diff = -5):\n",
    "    df[new_col] = df[utc_col] + dt.timedelta(hours=time_diff)\n",
    "    return df\n",
    "    \n",
    "btc_df = make_etz_time(btc_df)\n",
    "eth_df = make_etz_time(eth_df)\n",
    "\n",
    "\n"
   ]
  },
  {
   "cell_type": "markdown",
   "id": "e569bf2d",
   "metadata": {},
   "source": [
    "## 서버 점검시간 & 누락 데이터 확인 확인"
   ]
  },
  {
   "cell_type": "code",
   "execution_count": 23,
   "id": "fd1405b8",
   "metadata": {},
   "outputs": [],
   "source": [
    "btc_df = btc_df.sort_values('utc_time')\n",
    "eth_df = eth_df.sort_values('utc_time')"
   ]
  },
  {
   "cell_type": "code",
   "execution_count": 37,
   "id": "843507ed",
   "metadata": {},
   "outputs": [
    {
     "name": "stdout",
     "output_type": "stream",
     "text": [
      "점검시간 비율: 0.1202\n",
      "점검시간 비율: 0.3753\n"
     ]
    }
   ],
   "source": [
    "def check_server_maintenance_time(df):\n",
    "    df = df[df.candle_date_time_utc != df.utc_time - dt.timedelta(hours=1)]\n",
    "    return df\n",
    "    \n",
    "missing_btc_df = check_server_maintenance_time(btc_df)\n",
    "missing_eth_df = check_server_maintenance_time(eth_df)\n",
    "\n",
    "print(f\"점검시간 비율: {len(missing_btc_df) / len(btc_df):.4f}\")\n",
    "print(f\"점검시간 비율: {len(missing_eth_df) / len(eth_df):.4f}\")\n"
   ]
  },
  {
   "cell_type": "markdown",
   "id": "590383e7",
   "metadata": {},
   "source": [
    "## 일단위 데이터로 groupby\n",
    "- opening_price\t시가\tDouble\n",
    "- high_price\t고가\tDouble\n",
    "- low_price\t저가\tDouble\n",
    "- trade_price\t종가\tDouble\n",
    "- candle_acc_trade_price\t누적 거래 금액\tDouble\n",
    "- candle_acc_trade_volume\t누적 거래량\tDouble"
   ]
  },
  {
   "cell_type": "code",
   "execution_count": 44,
   "id": "28313ef9",
   "metadata": {},
   "outputs": [],
   "source": [
    "consider_cols = [\"opening_price\", # take fist\n",
    "                \"high_price\",  # max\n",
    "                \"low_price\",   # min\n",
    "                \"trade_price\", # take last\n",
    "                \"candle_acc_trade_price\", # sum\n",
    "                \"candle_acc_trade_volume\"] # sum"
   ]
  },
  {
   "cell_type": "code",
   "execution_count": 70,
   "id": "6dc3487f",
   "metadata": {},
   "outputs": [],
   "source": [
    "\n",
    "btc_df['etz_date'] = btc_df['etz_time'].apply(lambda x: x.date())\n",
    "conditions = {\"opening_price\": \"first\",\n",
    "            \"high_price\": \"max\", \n",
    "            \"low_price\": \"min\",  \n",
    "            \"trade_price\": \"last\",\n",
    "            \"candle_acc_trade_price\": \"sum\",\n",
    "            \"candle_acc_trade_volume\": \"sum\"\n",
    "}\n",
    "\n",
    "daily_btc_df = btc_df.groupby('etz_date').agg(conditions)"
   ]
  },
  {
   "cell_type": "code",
   "execution_count": 71,
   "id": "09503770",
   "metadata": {},
   "outputs": [
    {
     "data": {
      "text/html": [
       "<div>\n",
       "<style scoped>\n",
       "    .dataframe tbody tr th:only-of-type {\n",
       "        vertical-align: middle;\n",
       "    }\n",
       "\n",
       "    .dataframe tbody tr th {\n",
       "        vertical-align: top;\n",
       "    }\n",
       "\n",
       "    .dataframe thead th {\n",
       "        text-align: right;\n",
       "    }\n",
       "</style>\n",
       "<table border=\"1\" class=\"dataframe\">\n",
       "  <thead>\n",
       "    <tr style=\"text-align: right;\">\n",
       "      <th></th>\n",
       "      <th>opening_price</th>\n",
       "      <th>high_price</th>\n",
       "      <th>low_price</th>\n",
       "      <th>trade_price</th>\n",
       "      <th>candle_acc_trade_price</th>\n",
       "      <th>candle_acc_trade_volume</th>\n",
       "    </tr>\n",
       "    <tr>\n",
       "      <th>etz_date</th>\n",
       "      <th></th>\n",
       "      <th></th>\n",
       "      <th></th>\n",
       "      <th></th>\n",
       "      <th></th>\n",
       "      <th></th>\n",
       "    </tr>\n",
       "  </thead>\n",
       "  <tbody>\n",
       "    <tr>\n",
       "      <th>2019-12-31</th>\n",
       "      <td>7440.0</td>\n",
       "      <td>7440.000000</td>\n",
       "      <td>7420.000</td>\n",
       "      <td>7420.0</td>\n",
       "      <td>65.363881</td>\n",
       "      <td>0.008798</td>\n",
       "    </tr>\n",
       "    <tr>\n",
       "      <th>2020-01-01</th>\n",
       "      <td>7420.0</td>\n",
       "      <td>7480.000000</td>\n",
       "      <td>6900.000</td>\n",
       "      <td>7385.0</td>\n",
       "      <td>17619.151538</td>\n",
       "      <td>2.473489</td>\n",
       "    </tr>\n",
       "    <tr>\n",
       "      <th>2020-01-02</th>\n",
       "      <td>7345.0</td>\n",
       "      <td>7435.000000</td>\n",
       "      <td>6999.999</td>\n",
       "      <td>7145.0</td>\n",
       "      <td>11756.343703</td>\n",
       "      <td>1.640328</td>\n",
       "    </tr>\n",
       "    <tr>\n",
       "      <th>2020-01-03</th>\n",
       "      <td>7170.0</td>\n",
       "      <td>7649.999998</td>\n",
       "      <td>7170.000</td>\n",
       "      <td>7505.0</td>\n",
       "      <td>12236.129466</td>\n",
       "      <td>1.671004</td>\n",
       "    </tr>\n",
       "    <tr>\n",
       "      <th>2020-01-04</th>\n",
       "      <td>7325.0</td>\n",
       "      <td>7643.000000</td>\n",
       "      <td>7325.000</td>\n",
       "      <td>7643.0</td>\n",
       "      <td>4375.350268</td>\n",
       "      <td>0.578996</td>\n",
       "    </tr>\n",
       "  </tbody>\n",
       "</table>\n",
       "</div>"
      ],
      "text/plain": [
       "            opening_price   high_price  low_price  trade_price  \\\n",
       "etz_date                                                         \n",
       "2019-12-31         7440.0  7440.000000   7420.000       7420.0   \n",
       "2020-01-01         7420.0  7480.000000   6900.000       7385.0   \n",
       "2020-01-02         7345.0  7435.000000   6999.999       7145.0   \n",
       "2020-01-03         7170.0  7649.999998   7170.000       7505.0   \n",
       "2020-01-04         7325.0  7643.000000   7325.000       7643.0   \n",
       "\n",
       "            candle_acc_trade_price  candle_acc_trade_volume  \n",
       "etz_date                                                     \n",
       "2019-12-31               65.363881                 0.008798  \n",
       "2020-01-01            17619.151538                 2.473489  \n",
       "2020-01-02            11756.343703                 1.640328  \n",
       "2020-01-03            12236.129466                 1.671004  \n",
       "2020-01-04             4375.350268                 0.578996  "
      ]
     },
     "execution_count": 71,
     "metadata": {},
     "output_type": "execute_result"
    }
   ],
   "source": [
    "daily_btc_df.head()"
   ]
  },
  {
   "cell_type": "code",
   "execution_count": 73,
   "id": "783e2d48",
   "metadata": {},
   "outputs": [
    {
     "data": {
      "text/plain": [
       "<AxesSubplot:xlabel='etz_date'>"
      ]
     },
     "execution_count": 73,
     "metadata": {},
     "output_type": "execute_result"
    },
    {
     "data": {
      "image/png": "[encoded data removed]",
      "text/plain": [
       "<Figure size 432x288 with 1 Axes>"
      ]
     },
     "metadata": {
      "needs_background": "light"
     },
     "output_type": "display_data"
    }
   ],
   "source": [
    "daily_btc_df.trade_price.plot()"
   ]
  },
  {
   "cell_type": "code",
   "execution_count": null,
   "id": "bf311f65",
   "metadata": {},
   "outputs": [],
   "source": []
  },
  {
   "cell_type": "code",
   "execution_count": null,
   "id": "b2d1dc57",
   "metadata": {},
   "outputs": [],
   "source": []
  },
  {
   "cell_type": "code",
   "execution_count": null,
   "id": "c2634a20",
   "metadata": {},
   "outputs": [],
   "source": []
  },
  {
   "cell_type": "code",
   "execution_count": null,
   "id": "dabfd665",
   "metadata": {},
   "outputs": [],
   "source": []
  },
  {
   "cell_type": "code",
   "execution_count": null,
   "id": "8058eb85",
   "metadata": {},
   "outputs": [],
   "source": []
  },
  {
   "cell_type": "code",
   "execution_count": null,
   "id": "24028685",
   "metadata": {},
   "outputs": [],
   "source": []
  },
  {
   "cell_type": "code",
   "execution_count": null,
   "id": "cd40794a",
   "metadata": {},
   "outputs": [],
   "source": []
  },
  {
   "cell_type": "code",
   "execution_count": null,
   "id": "3280dc29",
   "metadata": {},
   "outputs": [],
   "source": []
  },
  {
   "cell_type": "code",
   "execution_count": null,
   "id": "77945c8b",
   "metadata": {},
   "outputs": [],
   "source": []
  },
  {
   "cell_type": "code",
   "execution_count": null,
   "id": "7c543cb6",
   "metadata": {},
   "outputs": [],
   "source": []
  },
  {
   "cell_type": "code",
   "execution_count": null,
   "id": "1d7ced26",
   "metadata": {},
   "outputs": [],
   "source": []
  },
  {
   "cell_type": "code",
   "execution_count": null,
   "id": "54ef0dc7",
   "metadata": {},
   "outputs": [],
   "source": []
  },
  {
   "cell_type": "code",
   "execution_count": null,
   "id": "2eacc4f6",
   "metadata": {},
   "outputs": [],
   "source": []
  },
  {
   "cell_type": "code",
   "execution_count": null,
   "id": "3de8590a",
   "metadata": {},
   "outputs": [],
   "source": []
  },
  {
   "cell_type": "code",
   "execution_count": null,
   "id": "b5df7bd1",
   "metadata": {},
   "outputs": [],
   "source": []
  },
  {
   "cell_type": "code",
   "execution_count": null,
   "id": "2ec98204",
   "metadata": {},
   "outputs": [],
   "source": []
  },
  {
   "cell_type": "code",
   "execution_count": null,
   "id": "8b614011",
   "metadata": {},
   "outputs": [],
   "source": []
  }
 ],
 "metadata": {
  "kernelspec": {
   "display_name": "EDA-exercise",
   "language": "python",
   "name": "eda-exercise"
  },
  "language_info": {
   "codemirror_mode": {
    "name": "ipython",
    "version": 3
   },
   "file_extension": ".py",
   "mimetype": "text/x-python",
   "name": "python",
   "nbconvert_exporter": "python",
   "pygments_lexer": "ipython3",
   "version": "3.8.13"
  }
 },
 "nbformat": 4,
 "nbformat_minor": 5
}
